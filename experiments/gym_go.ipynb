{
 "cells": [
  {
   "cell_type": "code",
   "execution_count": 3,
   "metadata": {},
   "outputs": [
    {
     "name": "stdout",
     "output_type": "stream",
     "text": [
      "Cloning into './GymGo'...\n",
      "remote: Enumerating objects: 917, done.\u001b[K\n",
      "remote: Counting objects: 100% (208/208), done.\u001b[K\n",
      "remote: Compressing objects: 100% (78/78), done.\u001b[K\n",
      "remote: Total 917 (delta 130), reused 189 (delta 130), pack-reused 709 (from 1)\u001b[K\n",
      "Receiving objects: 100% (917/917), 457.37 KiB | 1.65 MiB/s, done.\n",
      "Resolving deltas: 100% (555/555), done.\n",
      "Obtaining file:///home/solan/repos/iu/Course%203/Fall%20Semester/RL/Project/repo/notebooks/GymGo\n",
      "  Installing build dependencies ... \u001b[?25ldone\n",
      "\u001b[?25h  Checking if build backend supports build_editable ... \u001b[?25ldone\n",
      "\u001b[?25h  Getting requirements to build editable ... \u001b[?25ldone\n",
      "\u001b[?25h  Preparing editable metadata (pyproject.toml) ... \u001b[?25ldone\n",
      "\u001b[?25hRequirement already satisfied: gym in /home/solan/repos/iu/Course 3/Fall Semester/RL/Project/repo/.venv/lib/python3.12/site-packages (from gym_go==0.0.1) (0.26.2)\n",
      "Requirement already satisfied: numpy>=1.18.0 in /home/solan/repos/iu/Course 3/Fall Semester/RL/Project/repo/.venv/lib/python3.12/site-packages (from gym->gym_go==0.0.1) (2.1.2)\n",
      "Requirement already satisfied: cloudpickle>=1.2.0 in /home/solan/repos/iu/Course 3/Fall Semester/RL/Project/repo/.venv/lib/python3.12/site-packages (from gym->gym_go==0.0.1) (3.1.0)\n",
      "Requirement already satisfied: gym-notices>=0.0.4 in /home/solan/repos/iu/Course 3/Fall Semester/RL/Project/repo/.venv/lib/python3.12/site-packages (from gym->gym_go==0.0.1) (0.0.8)\n",
      "Building wheels for collected packages: gym_go\n",
      "  Building editable for gym_go (pyproject.toml) ... \u001b[?25ldone\n",
      "\u001b[?25h  Created wheel for gym_go: filename=gym_go-0.0.1-0.editable-py3-none-any.whl size=2656 sha256=831f395695ee39abc81c8b188be07bd0e6a6c9e893f3c9c56df15dcdd60f8cd8\n",
      "  Stored in directory: /tmp/pip-ephem-wheel-cache-dkrzoy1x/wheels/60/44/c0/8a46149dbb46f87ea1e59b0f2fdaa0655cc1064dc2ae97118a\n",
      "Successfully built gym_go\n",
      "Installing collected packages: gym_go\n",
      "  Attempting uninstall: gym_go\n",
      "    Found existing installation: gym_go 0.0.1\n",
      "    Uninstalling gym_go-0.0.1:\n",
      "      Successfully uninstalled gym_go-0.0.1\n",
      "Successfully installed gym_go-0.0.1\n"
     ]
    }
   ],
   "source": [
    "!rm -rf ./GymGo\n",
    "!git clone https://github.com/huangeddie/GymGo.git ./GymGo\n",
    "\n",
    "# makes error while installing\n",
    "!rm -rf ./GymGo/screenshots\n",
    "!pip install -e ./GymGo/"
   ]
  },
  {
   "cell_type": "code",
   "execution_count": 1,
   "metadata": {},
   "outputs": [
    {
     "name": "stdout",
     "output_type": "stream",
     "text": [
      "\t0 1 2 3 4 5 6 7 8 \n",
      "0\t╔═╤═╤═╤═╤═╤═╤═╤═╗\n",
      "1\t╟─┼─┼─┼─┼─┼─┼─┼─╢\n",
      "2\t╟─┼─┼─┼─┼─○─┼─┼─╢\n",
      "3\t╟─┼─┼─┼─┼─┼─┼─┼─╢\n",
      "4\t╟─┼─┼─┼─┼─┼─┼─┼─╢\n",
      "5\t╟─┼─●─┼─┼─┼─┼─┼─╢\n",
      "6\t╟─┼─┼─┼─┼─┼─┼─┼─╢\n",
      "7\t╟─┼─┼─┼─┼─┼─┼─┼─╢\n",
      "8\t╚═╧═╧═╧═╧═╧═╧═╧═╝\n",
      "\tTurn: BLACK, Game State (ONGOING|PASSED|END): ONGOING\n",
      "\tBlack Area: 1, White Area: 1\n",
      "\n"
     ]
    },
    {
     "name": "stderr",
     "output_type": "stream",
     "text": [
      "/home/solan/repos/iu/Course 3/Fall Semester/RL/Project/repo/.venv/lib/python3.12/site-packages/gymnasium/envs/registration.py:485: UserWarning: \u001b[33mWARN: The environment creator metadata doesn't include `render_modes`, contains: ['render.modes']\u001b[0m\n",
      "  logger.warn(\n",
      "/home/solan/repos/iu/Course 3/Fall Semester/RL/Project/repo/.venv/lib/python3.12/site-packages/gymnasium/utils/passive_env_checker.py:188: UserWarning: \u001b[33mWARN: The result returned by `env.reset()` was not a tuple of the form `(obs, info)`, where `obs` is a observation and `info` is a dictionary containing additional information. Actual type: `<class 'numpy.ndarray'>`\u001b[0m\n",
      "  logger.warn(\n",
      "/home/solan/repos/iu/Course 3/Fall Semester/RL/Project/repo/.venv/lib/python3.12/site-packages/gymnasium/utils/passive_env_checker.py:212: DeprecationWarning: \u001b[33mWARN: Core environment is written in old step API which returns one bool instead of two. It is recommended to rewrite the environment with new step API. \u001b[0m\n",
      "  logger.deprecation(\n",
      "/home/solan/repos/iu/Course 3/Fall Semester/RL/Project/repo/.venv/lib/python3.12/site-packages/gymnasium/utils/passive_env_checker.py:219: UserWarning: \u001b[33mWARN: Expects `done` signal to be a boolean, actual type: <class 'int'>\u001b[0m\n",
      "  logger.warn(\n",
      "/home/solan/repos/iu/Course 3/Fall Semester/RL/Project/repo/.venv/lib/python3.12/site-packages/gymnasium/utils/passive_env_checker.py:134: UserWarning: \u001b[33mWARN: The obs returned by the `step()` method was expecting numpy array dtype to be float32, actual type: float64\u001b[0m\n",
      "  logger.warn(\n",
      "/home/solan/repos/iu/Course 3/Fall Semester/RL/Project/repo/.venv/lib/python3.12/site-packages/gymnasium/utils/passive_env_checker.py:158: UserWarning: \u001b[33mWARN: The obs returned by the `step()` method is not within the observation space.\u001b[0m\n",
      "  logger.warn(f\"{pre} is not within the observation space.\")\n",
      "/home/solan/repos/iu/Course 3/Fall Semester/RL/Project/repo/.venv/lib/python3.12/site-packages/gymnasium/utils/passive_env_checker.py:317: UserWarning: \u001b[33mWARN: No render modes was declared in the environment (env.metadata['render_modes'] is None or not defined), you may have trouble when calling `.render()`.\u001b[0m\n",
      "  logger.warn(\n"
     ]
    }
   ],
   "source": [
    "import gymnasium as gym\n",
    "import gym_go\n",
    "\n",
    "go_env = gym.make(\"gym_go:go-v0\", size=9, komi=6.5, reward_method=\"real\")\n",
    "\n",
    "first_action = (2, 5)\n",
    "second_action = (5, 2)\n",
    "\n",
    "go_env.reset()\n",
    "state, reward, done, info = go_env.step(first_action)\n",
    "state, reward, done, info = go_env.step(second_action)\n",
    "go_env.render()\n"
   ]
  }
 ],
 "metadata": {
  "kernelspec": {
   "display_name": ".venv",
   "language": "python",
   "name": "python3"
  },
  "language_info": {
   "codemirror_mode": {
    "name": "ipython",
    "version": 3
   },
   "file_extension": ".py",
   "mimetype": "text/x-python",
   "name": "python",
   "nbconvert_exporter": "python",
   "pygments_lexer": "ipython3",
   "version": "3.12.3"
  }
 },
 "nbformat": 4,
 "nbformat_minor": 2
}
